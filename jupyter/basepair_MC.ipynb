{
 "cells": [
  {
   "cell_type": "code",
   "execution_count": 1,
   "id": "ed4f0438-a4ef-431e-b034-b8ee7336963a",
   "metadata": {},
   "outputs": [],
   "source": [
    "import math\n",
    "import random"
   ]
  },
  {
   "cell_type": "code",
   "execution_count": 2,
   "id": "c9e3cddc-07f3-4409-a3ae-5b6be6251a1b",
   "metadata": {},
   "outputs": [
    {
     "name": "stdout",
     "output_type": "stream",
     "text": [
      "0.5957625\n"
     ]
    }
   ],
   "source": [
    "kB = 0.001985875\n",
    "T = 300.0\n",
    "kT = kB * T\n",
    "print(kT)"
   ]
  },
  {
   "cell_type": "markdown",
   "id": "bfd73f4a-cbcf-4267-8c98-41e7f4fafd8a",
   "metadata": {},
   "source": [
    "## MC"
   ]
  },
  {
   "cell_type": "code",
   "execution_count": 259,
   "id": "afc3a440-aedc-41ad-8bab-f7072bde8523",
   "metadata": {},
   "outputs": [],
   "source": [
    "# from numba import jit\n",
    "\n",
    "# @jit\n",
    "def basepair_MC(Ubps_input, verbose=False, shuffle=\"original\"):\n",
    "    Ubps = Ubps_input.copy()\n",
    "    idx = list(range(len(Ubps)))\n",
    "\n",
    "    # Shuffle must be one of these options\n",
    "    assert shuffle in ('No', 'original', 'Fisher-Yates')\n",
    "    \n",
    "    while len(Ubps) > 1:\n",
    "        if verbose:\n",
    "            print('################################')\n",
    "        nbp_seq = 0\n",
    "        bp_seq = []\n",
    "        for ibp in range(len(Ubps)):\n",
    "            nbp_seq += 1\n",
    "            bp_seq.append(ibp)\n",
    "        if verbose:\n",
    "            print(nbp_seq)\n",
    "            print(bp_seq)\n",
    "\n",
    "        \n",
    "        # Shuffle\n",
    "        if shuffle == 'No':\n",
    "            if verbose:\n",
    "                print('No shuffle', bp_seq)\n",
    "            pass\n",
    "        elif shuffle == 'original':\n",
    "            for i in range(nbp_seq):\n",
    "                i_swap = random.randint(0, nbp_seq-1)\n",
    "                i_save = bp_seq[i]\n",
    "                bp_seq[i] = bp_seq[i_swap]\n",
    "                bp_seq[i_swap] = i_save\n",
    "                if verbose:\n",
    "                    print('Shuffle', i, i_swap, bp_seq)\n",
    "        elif shuffle == 'Fisher-Yates':\n",
    "            for i in range(nbp_seq-1, 0, -1):\n",
    "                i_swap = random.randint(0, i)\n",
    "                i_save = bp_seq[i]\n",
    "                bp_seq[i] = bp_seq[i_swap]\n",
    "                bp_seq[i_swap] = i_save\n",
    "                if verbose:\n",
    "                    print('Shuffle', i, i_swap, bp_seq)\n",
    "\n",
    "        ibp_delete = bp_seq[0]\n",
    "        if verbose:\n",
    "            print('ibp_delete = ', ibp_delete)\n",
    "        for i in range(1, nbp_seq):\n",
    "            jbp = bp_seq[i]\n",
    "            if verbose:\n",
    "                print('################', i)\n",
    "                print('ibp_delete, jbp = ', ibp_delete, jbp)\n",
    "            ratio = math.exp((Ubps[jbp] - Ubps[ibp_delete]) / kT)\n",
    "            #rnd = random.random()\n",
    "            rnd = random.uniform(0, 1.0)\n",
    "            if rnd < ratio:\n",
    "                ibp_delete = jbp\n",
    "            if verbose:\n",
    "                print('ratio = ', ratio)\n",
    "                print('rnd = ', rnd)\n",
    "                print('swap = ', rnd < ratio)\n",
    "                print('new ibp_delete = ', ibp_delete)\n",
    "        \n",
    "        idx.pop(ibp_delete)\n",
    "        Ubps.pop(ibp_delete)\n",
    "        if verbose:\n",
    "            print('idx: ', idx)\n",
    "            print('Ubps: ', Ubps)\n",
    "\n",
    "    assert len(idx) == 1\n",
    "    assert len(Ubps) == 1\n",
    "        \n",
    "    return idx[0], Ubps[0]"
   ]
  },
  {
   "cell_type": "code",
   "execution_count": 210,
   "id": "9b201eea-868a-41b8-91f5-aa3fd039a683",
   "metadata": {},
   "outputs": [],
   "source": [
    "def basepair_MC2(Ubps_input, verbose=False):\n",
    "    Ubps = Ubps_input.copy()\n",
    "    idx = list(range(len(Ubps)))\n",
    "    \n",
    "    while len(Ubps) > 1:\n",
    "        if verbose:\n",
    "            print('################################')\n",
    "            print('Ubps = ', Ubps)\n",
    "\n",
    "        N = len(Ubps)\n",
    "        Z = 0.0\n",
    "        for Ubp in Ubps:\n",
    "            Z += math.exp(-Ubp / kT)\n",
    "        prob = []\n",
    "        for Ubp in Ubps:\n",
    "            prob.append((1.0 - math.exp(-Ubp / kT) / Z) / (N-1))\n",
    "\n",
    "        cum = []\n",
    "        s = 0.0\n",
    "        for p in prob:\n",
    "            s += p\n",
    "            cum.append(s) \n",
    "\n",
    "        if verbose:\n",
    "            print('prob = ', prob)\n",
    "            print('cum = ', cum)\n",
    "            \n",
    "        r = random.random()\n",
    "        if verbose:\n",
    "            print('r = ', r)\n",
    "        for ic, c in enumerate(cum):\n",
    "            if r < c:\n",
    "                ibp_delete = ic\n",
    "                if verbose:\n",
    "                    print('ibp_delte =', ibp_delete)\n",
    "                break\n",
    "                \n",
    "        idx_remove = idx.pop(ibp_delete)\n",
    "        Ubp_remove = Ubps.pop(ibp_delete)\n",
    "        if verbose:\n",
    "            print('idx_remove = ', idx_remove)\n",
    "            print('Ubp_remove = ', Ubp_remove)\n",
    "            print('idx: ', idx)\n",
    "            print('Ubps: ', Ubps)\n",
    "\n",
    "    assert len(idx) == 1\n",
    "    assert len(Ubps) == 1\n",
    "        \n",
    "    return idx[0], Ubps[0]"
   ]
  },
  {
   "cell_type": "code",
   "execution_count": 160,
   "id": "b45b261a-63b5-4494-9f25-35fac7ab9a65",
   "metadata": {},
   "outputs": [
    {
     "name": "stdout",
     "output_type": "stream",
     "text": [
      "(8, -6.5)\n"
     ]
    }
   ],
   "source": [
    "Ubps = [-5.0, -7.0, -0.5, -2.1, -1.0, -3.0, -0.9, -3.3, -6.5]\n",
    "print(basepair_MC(Ubps))"
   ]
  },
  {
   "cell_type": "code",
   "execution_count": 186,
   "id": "d838e7e6-59f8-4b6f-a097-d6c924b9c60c",
   "metadata": {
    "scrolled": true
   },
   "outputs": [
    {
     "name": "stdout",
     "output_type": "stream",
     "text": [
      "################################\n",
      "9\n",
      "[0, 1, 2, 3, 4, 5, 6, 7, 8]\n",
      "Shuffle 8 0 [8, 1, 2, 3, 4, 5, 6, 7, 0]\n",
      "Shuffle 7 3 [8, 1, 2, 7, 4, 5, 6, 3, 0]\n",
      "Shuffle 6 1 [8, 6, 2, 7, 4, 5, 1, 3, 0]\n",
      "Shuffle 5 1 [8, 5, 2, 7, 4, 6, 1, 3, 0]\n",
      "Shuffle 4 1 [8, 4, 2, 7, 5, 6, 1, 3, 0]\n",
      "Shuffle 3 2 [8, 4, 7, 2, 5, 6, 1, 3, 0]\n",
      "Shuffle 2 1 [8, 7, 4, 2, 5, 6, 1, 3, 0]\n",
      "Shuffle 1 1 [8, 7, 4, 2, 5, 6, 1, 3, 0]\n",
      "ibp_delete =  8\n",
      "################ 1\n",
      "ibp_delete, jbp =  8 7\n",
      "ratio =  215.13546790092735\n",
      "rnd =  0.709414027078058\n",
      "swap =  True\n",
      "new ibp_delete =  7\n",
      "################ 2\n",
      "ibp_delete, jbp =  7 4\n",
      "ratio =  47.4937827236931\n",
      "rnd =  0.9778437325314585\n",
      "swap =  True\n",
      "new ibp_delete =  4\n",
      "################ 3\n",
      "ibp_delete, jbp =  4 2\n",
      "ratio =  2.314654914465859\n",
      "rnd =  0.7846673199676594\n",
      "swap =  True\n",
      "new ibp_delete =  2\n",
      "################ 4\n",
      "ibp_delete, jbp =  2 5\n",
      "ratio =  0.015051117214711494\n",
      "rnd =  0.6948506046351149\n",
      "swap =  False\n",
      "new ibp_delete =  2\n",
      "################ 5\n",
      "ibp_delete, jbp =  2 6\n",
      "ratio =  0.5109883491577271\n",
      "rnd =  0.018475263529320385\n",
      "swap =  True\n",
      "new ibp_delete =  6\n",
      "################ 6\n",
      "ibp_delete, jbp =  6 1\n",
      "ratio =  3.574931466933507e-05\n",
      "rnd =  0.3638203215536002\n",
      "swap =  False\n",
      "new ibp_delete =  6\n",
      "################ 7\n",
      "ibp_delete, jbp =  6 3\n",
      "ratio =  0.13342370436933557\n",
      "rnd =  0.1259118909738285\n",
      "swap =  True\n",
      "new ibp_delete =  3\n",
      "################ 8\n",
      "ibp_delete, jbp =  3 0\n",
      "ratio =  0.007690945538524879\n",
      "rnd =  0.13125966834631264\n",
      "swap =  False\n",
      "new ibp_delete =  3\n",
      "idx:  [0, 1, 2, 4, 5, 6, 7, 8]\n",
      "Ubps:  [-5.0, -7.0, -0.5, -1.0, -3.0, -0.9, -3.3, -6.5]\n",
      "################################\n",
      "8\n",
      "[0, 1, 2, 3, 4, 5, 6, 7]\n",
      "Shuffle 7 5 [0, 1, 2, 3, 4, 7, 6, 5]\n",
      "Shuffle 6 2 [0, 1, 6, 3, 4, 7, 2, 5]\n",
      "Shuffle 5 1 [0, 7, 6, 3, 4, 1, 2, 5]\n",
      "Shuffle 4 0 [4, 7, 6, 3, 0, 1, 2, 5]\n",
      "Shuffle 3 3 [4, 7, 6, 3, 0, 1, 2, 5]\n",
      "Shuffle 2 1 [4, 6, 7, 3, 0, 1, 2, 5]\n",
      "Shuffle 1 1 [4, 6, 7, 3, 0, 1, 2, 5]\n",
      "ibp_delete =  4\n",
      "################ 1\n",
      "ibp_delete, jbp =  4 6\n",
      "ratio =  0.6043774452661661\n",
      "rnd =  0.43200111346938774\n",
      "swap =  True\n",
      "new ibp_delete =  6\n",
      "################ 2\n",
      "ibp_delete, jbp =  6 7\n",
      "ratio =  0.004648234016254878\n",
      "rnd =  0.4400471072938974\n",
      "swap =  False\n",
      "new ibp_delete =  6\n",
      "################ 3\n",
      "ibp_delete, jbp =  6 3\n",
      "ratio =  47.4937827236931\n",
      "rnd =  0.28815278815221224\n",
      "swap =  True\n",
      "new ibp_delete =  3\n",
      "################ 4\n",
      "ibp_delete, jbp =  3 0\n",
      "ratio =  0.0012136961679195706\n",
      "rnd =  0.7056288960961193\n",
      "swap =  False\n",
      "new ibp_delete =  3\n",
      "################ 5\n",
      "ibp_delete, jbp =  3 1\n",
      "ratio =  4.228291996379706e-05\n",
      "rnd =  0.6003794185460337\n",
      "swap =  False\n",
      "new ibp_delete =  3\n",
      "################ 6\n",
      "ibp_delete, jbp =  3 2\n",
      "ratio =  2.314654914465859\n",
      "rnd =  0.11893284063304466\n",
      "swap =  True\n",
      "new ibp_delete =  2\n",
      "################ 7\n",
      "ibp_delete, jbp =  2 5\n",
      "ratio =  0.5109883491577271\n",
      "rnd =  0.5839015873672497\n",
      "swap =  False\n",
      "new ibp_delete =  2\n",
      "idx:  [0, 1, 4, 5, 6, 7, 8]\n",
      "Ubps:  [-5.0, -7.0, -1.0, -3.0, -0.9, -3.3, -6.5]\n",
      "################################\n",
      "7\n",
      "[0, 1, 2, 3, 4, 5, 6]\n",
      "Shuffle 6 5 [0, 1, 2, 3, 4, 6, 5]\n",
      "Shuffle 5 3 [0, 1, 2, 6, 4, 3, 5]\n",
      "Shuffle 4 2 [0, 1, 4, 6, 2, 3, 5]\n",
      "Shuffle 3 3 [0, 1, 4, 6, 2, 3, 5]\n",
      "Shuffle 2 0 [4, 1, 0, 6, 2, 3, 5]\n",
      "Shuffle 1 0 [1, 4, 0, 6, 2, 3, 5]\n",
      "ibp_delete =  1\n",
      "################ 1\n",
      "ibp_delete, jbp =  1 4\n",
      "ratio =  27972.56420856025\n",
      "rnd =  0.9554442085407325\n",
      "swap =  True\n",
      "new ibp_delete =  4\n",
      "################ 2\n",
      "ibp_delete, jbp =  4 0\n",
      "ratio =  0.0010261544438528048\n",
      "rnd =  0.9298753239456095\n",
      "swap =  False\n",
      "new ibp_delete =  4\n",
      "################ 3\n",
      "ibp_delete, jbp =  4 6\n",
      "ratio =  8.274732688816286e-05\n",
      "rnd =  0.5990366150899866\n",
      "swap =  False\n",
      "new ibp_delete =  4\n",
      "################ 4\n",
      "ibp_delete, jbp =  4 2\n",
      "ratio =  0.8454788529255743\n",
      "rnd =  0.12403417156528229\n",
      "swap =  True\n",
      "new ibp_delete =  2\n",
      "################ 5\n",
      "ibp_delete, jbp =  2 3\n",
      "ratio =  0.03483814242923366\n",
      "rnd =  0.9498199456219645\n",
      "swap =  False\n",
      "new ibp_delete =  2\n",
      "################ 6\n",
      "ibp_delete, jbp =  2 5\n",
      "ratio =  0.021055387519199067\n",
      "rnd =  0.45594351823887136\n",
      "swap =  False\n",
      "new ibp_delete =  2\n",
      "idx:  [0, 1, 5, 6, 7, 8]\n",
      "Ubps:  [-5.0, -7.0, -3.0, -0.9, -3.3, -6.5]\n",
      "################################\n",
      "6\n",
      "[0, 1, 2, 3, 4, 5]\n",
      "Shuffle 5 4 [0, 1, 2, 3, 5, 4]\n",
      "Shuffle 4 1 [0, 5, 2, 3, 1, 4]\n",
      "Shuffle 3 2 [0, 5, 3, 2, 1, 4]\n",
      "Shuffle 2 0 [3, 5, 0, 2, 1, 4]\n",
      "Shuffle 1 1 [3, 5, 0, 2, 1, 4]\n",
      "ibp_delete =  3\n",
      "################ 1\n",
      "ibp_delete, jbp =  3 5\n",
      "ratio =  8.274732688816286e-05\n",
      "rnd =  0.46834401615325805\n",
      "swap =  False\n",
      "new ibp_delete =  3\n",
      "################ 2\n",
      "ibp_delete, jbp =  3 0\n",
      "ratio =  0.0010261544438528048\n",
      "rnd =  0.15986231305299203\n",
      "swap =  False\n",
      "new ibp_delete =  3\n",
      "################ 3\n",
      "ibp_delete, jbp =  3 2\n",
      "ratio =  0.029454912699126257\n",
      "rnd =  0.5431056463047791\n",
      "swap =  False\n",
      "new ibp_delete =  3\n",
      "################ 4\n",
      "ibp_delete, jbp =  3 1\n",
      "ratio =  3.574931466933507e-05\n",
      "rnd =  0.6881181071038243\n",
      "swap =  False\n",
      "new ibp_delete =  3\n",
      "################ 5\n",
      "ibp_delete, jbp =  3 4\n",
      "ratio =  0.01780188488763587\n",
      "rnd =  0.5367387101982546\n",
      "swap =  False\n",
      "new ibp_delete =  3\n",
      "idx:  [0, 1, 5, 7, 8]\n",
      "Ubps:  [-5.0, -7.0, -3.0, -3.3, -6.5]\n",
      "################################\n",
      "5\n",
      "[0, 1, 2, 3, 4]\n",
      "Shuffle 4 2 [0, 1, 4, 3, 2]\n",
      "Shuffle 3 3 [0, 1, 4, 3, 2]\n",
      "Shuffle 2 0 [4, 1, 0, 3, 2]\n",
      "Shuffle 1 1 [4, 1, 0, 3, 2]\n",
      "ibp_delete =  4\n",
      "################ 1\n",
      "ibp_delete, jbp =  4 1\n",
      "ratio =  0.43202984330420796\n",
      "rnd =  0.32377222418861995\n",
      "swap =  True\n",
      "new ibp_delete =  1\n",
      "################ 2\n",
      "ibp_delete, jbp =  1 0\n",
      "ratio =  28.704171068572013\n",
      "rnd =  0.7546760678866581\n",
      "swap =  True\n",
      "new ibp_delete =  0\n",
      "################ 3\n",
      "ibp_delete, jbp =  0 3\n",
      "ratio =  17.34815357890655\n",
      "rnd =  0.6834092913044082\n",
      "swap =  True\n",
      "new ibp_delete =  3\n",
      "################ 4\n",
      "ibp_delete, jbp =  3 2\n",
      "ratio =  1.6545951670310974\n",
      "rnd =  0.33090482021722745\n",
      "swap =  True\n",
      "new ibp_delete =  2\n",
      "idx:  [0, 1, 7, 8]\n",
      "Ubps:  [-5.0, -7.0, -3.3, -6.5]\n",
      "################################\n",
      "4\n",
      "[0, 1, 2, 3]\n",
      "Shuffle 3 1 [0, 3, 2, 1]\n",
      "Shuffle 2 1 [0, 2, 3, 1]\n",
      "Shuffle 1 1 [0, 2, 3, 1]\n",
      "ibp_delete =  0\n",
      "################ 1\n",
      "ibp_delete, jbp =  0 2\n",
      "ratio =  17.34815357890655\n",
      "rnd =  0.4633006309255885\n",
      "swap =  True\n",
      "new ibp_delete =  2\n",
      "################ 2\n",
      "ibp_delete, jbp =  2 3\n",
      "ratio =  0.004648234016254878\n",
      "rnd =  0.2796182408568514\n",
      "swap =  False\n",
      "new ibp_delete =  2\n",
      "################ 3\n",
      "ibp_delete, jbp =  2 1\n",
      "ratio =  0.002008175813683884\n",
      "rnd =  0.10022439989199161\n",
      "swap =  False\n",
      "new ibp_delete =  2\n",
      "idx:  [0, 1, 8]\n",
      "Ubps:  [-5.0, -7.0, -6.5]\n",
      "################################\n",
      "3\n",
      "[0, 1, 2]\n",
      "Shuffle 2 2 [0, 1, 2]\n",
      "Shuffle 1 1 [0, 1, 2]\n",
      "ibp_delete =  0\n",
      "################ 1\n",
      "ibp_delete, jbp =  0 1\n",
      "ratio =  0.03483814242923366\n",
      "rnd =  0.012013170547944263\n",
      "swap =  True\n",
      "new ibp_delete =  1\n",
      "################ 2\n",
      "ibp_delete, jbp =  1 2\n",
      "ratio =  2.314654914465859\n",
      "rnd =  0.43620133236445613\n",
      "swap =  True\n",
      "new ibp_delete =  2\n",
      "idx:  [0, 1]\n",
      "Ubps:  [-5.0, -7.0]\n",
      "################################\n",
      "2\n",
      "[0, 1]\n",
      "Shuffle 1 1 [0, 1]\n",
      "ibp_delete =  0\n",
      "################ 1\n",
      "ibp_delete, jbp =  0 1\n",
      "ratio =  0.03483814242923366\n",
      "rnd =  0.7715398222674826\n",
      "swap =  False\n",
      "new ibp_delete =  0\n",
      "idx:  [1]\n",
      "Ubps:  [-7.0]\n",
      "(1, -7.0)\n"
     ]
    }
   ],
   "source": [
    "print(basepair_MC(Ubps, verbose=True, shuffle='Fisher-Yates')) "
   ]
  },
  {
   "cell_type": "code",
   "execution_count": 217,
   "id": "50504279-5977-45cb-a74b-d649d28d56f0",
   "metadata": {},
   "outputs": [
    {
     "name": "stdout",
     "output_type": "stream",
     "text": [
      "################################\n",
      "Ubps =  [-5.0, -7.0, -0.5, -2.1, -1.0, -3.0, -0.9, -3.3, -6.5]\n",
      "prob =  [0.12203848775937913, 0.03999224602354874, 0.12499844712227502, 0.1249772231706457, 0.1249964056239423, 0.12489682641475533, 0.12499696103105376, 0.1248292894844889, 0.08827411336991112]\n",
      "cum =  [0.12203848775937913, 0.16203073378292787, 0.2870291809052029, 0.4120064040758486, 0.5370028096997909, 0.6618996361145462, 0.7868965971455999, 0.9117258866300888, 0.9999999999999999]\n",
      "r =  0.11651868692815326\n",
      "ibp_delte = 0\n",
      "idx_remove =  0\n",
      "Ubp_remove =  -5.0\n",
      "idx:  [1, 2, 3, 4, 5, 6, 7, 8]\n",
      "Ubps:  [-7.0, -0.5, -2.1, -1.0, -3.0, -0.9, -3.3, -6.5]\n",
      "################################\n",
      "Ubps =  [-7.0, -0.5, -2.1, -1.0, -3.0, -0.9, -3.3, -6.5]\n",
      "prob =  [0.04334783987624418, 0.1428553250726138, 0.14283048050803776, 0.14285293531324925, 0.1427363687974426, 0.14285358546775806, 0.14265731068166007, 0.09986615428299427]\n",
      "cum =  [0.04334783987624418, 0.186203164948858, 0.32903364545689573, 0.471886580770145, 0.6146229495675876, 0.7574765350353456, 0.9001338457170057, 1.0]\n",
      "r =  0.0977428807826749\n",
      "ibp_delte = 1\n",
      "idx_remove =  2\n",
      "Ubp_remove =  -0.5\n",
      "idx:  [1, 3, 4, 5, 6, 7, 8]\n",
      "Ubps:  [-7.0, -2.1, -1.0, -3.0, -0.9, -3.3, -6.5]\n",
      "################################\n",
      "Ubps =  [-7.0, -2.1, -1.0, -3.0, -0.9, -3.3, -6.5]\n",
      "prob =  [0.05057100259730396, 0.1666355601968967, 0.16666175780299466, 0.1665257618040736, 0.1666625163262401, 0.166433526162009, 0.11650987511048194]\n",
      "cum =  [0.05057100259730396, 0.21720656279420067, 0.38386832059719533, 0.550394082401269, 0.717056598727509, 0.8834901248895181, 1.0]\n",
      "r =  0.0625936346186885\n",
      "ibp_delte = 1\n",
      "idx_remove =  3\n",
      "Ubp_remove =  -2.1\n",
      "idx:  [1, 4, 5, 6, 7, 8]\n",
      "Ubps:  [-7.0, -1.0, -3.0, -0.9, -3.3, -6.5]\n",
      "################################\n",
      "Ubps =  [-7.0, -1.0, -3.0, -0.9, -3.3, -6.5]\n",
      "prob =  [0.06065919671385389, 0.19999410826396696, 0.19983088260101678, 0.19999501866177705, 0.1997201791689815, 0.13980061459040385]\n",
      "cum =  [0.06065919671385389, 0.26065330497782085, 0.46048418757883763, 0.6604792062406146, 0.8601993854095962, 1.0]\n",
      "r =  0.8224475661635354\n",
      "ibp_delte = 4\n",
      "idx_remove =  7\n",
      "Ubp_remove =  -3.3\n",
      "idx:  [1, 4, 5, 6, 8]\n",
      "Ubps:  [-7.0, -1.0, -3.0, -0.9, -6.5]\n",
      "################################\n",
      "Ubps =  [-7.0, -1.0, -3.0, -0.9, -6.5]\n",
      "prob =  [0.07557996409535178, 0.24999262501158176, 0.24978830707081415, 0.24999376460325182, 0.1746453392190005]\n",
      "cum =  [0.07557996409535178, 0.32557258910693354, 0.5753608961777477, 0.8253546607809995, 1.0]\n",
      "r =  0.14665741906491725\n",
      "ibp_delte = 1\n",
      "idx_remove =  4\n",
      "Ubp_remove =  -1.0\n",
      "idx:  [1, 5, 6, 8]\n",
      "Ubps:  [-7.0, -3.0, -0.9, -6.5]\n",
      "################################\n",
      "Ubps =  [-7.0, -3.0, -0.9, -6.5]\n",
      "prob =  [0.10076642474743987, 0.33305106776759774, 0.3333250192257366, 0.23285748825922573]\n",
      "cum =  [0.10076642474743987, 0.4338174925150376, 0.7671425117407742, 0.9999999999999999]\n",
      "r =  0.8250707267987359\n",
      "ibp_delte = 3\n",
      "idx_remove =  8\n",
      "Ubp_remove =  -6.5\n",
      "idx:  [1, 5, 6]\n",
      "Ubps:  [-7.0, -3.0, -0.9]\n",
      "################################\n",
      "Ubps =  [-7.0, -3.0, -0.9]\n",
      "prob =  [0.0006239431583338617, 0.4993939091934605, 0.49998214764820564]\n",
      "cum =  [0.0006239431583338617, 0.5000178523517944, 1.0]\n",
      "r =  0.6700180857682463\n",
      "ibp_delte = 2\n",
      "idx_remove =  6\n",
      "Ubp_remove =  -0.9\n",
      "idx:  [1, 5]\n",
      "Ubps:  [-7.0, -3.0]\n",
      "################################\n",
      "Ubps =  [-7.0, -3.0]\n",
      "prob =  [0.0012122248952095571, 0.9987877751047904]\n",
      "cum =  [0.0012122248952095571, 1.0]\n",
      "r =  0.6551872503745406\n",
      "ibp_delte = 1\n",
      "idx_remove =  5\n",
      "Ubp_remove =  -3.0\n",
      "idx:  [1]\n",
      "Ubps:  [-7.0]\n",
      "(1, -7.0)\n"
     ]
    }
   ],
   "source": [
    "print(basepair_MC2(Ubps, verbose=True)) "
   ]
  },
  {
   "cell_type": "markdown",
   "id": "b61489a4-11c6-40c2-9201-293098ad9115",
   "metadata": {},
   "source": [
    "## Test"
   ]
  },
  {
   "cell_type": "markdown",
   "id": "0b2eae71-e325-4e71-ae4a-832298c96131",
   "metadata": {},
   "source": [
    "### General case"
   ]
  },
  {
   "cell_type": "code",
   "execution_count": 310,
   "id": "46199f8d-098b-48d8-83b8-4bff75ef02ba",
   "metadata": {},
   "outputs": [],
   "source": [
    "kT = 0.6"
   ]
  },
  {
   "cell_type": "code",
   "execution_count": 332,
   "id": "54fcd54d-2190-4ea3-af60-332a6257db7f",
   "metadata": {},
   "outputs": [],
   "source": [
    "Ubps = [-5.0, -7.0, -0.5, -2.1, -1.0, -3.0, -0.9, -3.3, -6.5]\n",
    "#Ubps = [-5.0,  -0.5, -6.5, -2.1, -1.0,  -3.0, -0.9, -3.3, -7.0]\n",
    "#Ubps = [-0.5, -2.1, -5.0,  -7.0, -1.0,  -3.0, -0.9, -3.3, -6.5]\n",
    "#Ubps = [-7.0, -6.5, -0.5, -2.1, -5.0,  -1.0,  -3.0, -0.9, -3.3]"
   ]
  },
  {
   "cell_type": "code",
   "execution_count": 333,
   "id": "fbad71b3-3b4b-4cf3-b49b-677c7f0a9dca",
   "metadata": {},
   "outputs": [
    {
     "name": "stdout",
     "output_type": "stream",
     "text": [
      "-5.0 0.024201664389782628\n",
      "-7.0 0.6784119779975977\n",
      "-0.5 1.338556230555217e-05\n",
      "-2.1 0.00019264388958790805\n",
      "-1.0 3.079985615111932e-05\n",
      "-3.0 0.0008633700144335401\n",
      "-0.9 2.607151536118227e-05\n",
      "-3.3 0.0014234565072812544\n",
      "-6.5 0.2948366302674992\n"
     ]
    }
   ],
   "source": [
    "# Analytical\n",
    "\n",
    "Z = 0.0\n",
    "for Ubp in Ubps:\n",
    "    Z += math.exp(-Ubp / kT)\n",
    "\n",
    "probs_analytical = []\n",
    "for Ubp in Ubps:\n",
    "    p =  math.exp(-Ubp / kT) / Z\n",
    "    probs_analytical.append(p)\n",
    "    print(Ubp, p)"
   ]
  },
  {
   "cell_type": "code",
   "execution_count": 334,
   "id": "2ae5d4cb-055b-4a5b-b960-5874f97c26b0",
   "metadata": {},
   "outputs": [],
   "source": [
    "Ntrial = 100000\n",
    "\n",
    "idx_chosen = []\n",
    "for i in range(Ntrial):\n",
    "    idx, _ = basepair_MC(Ubps)\n",
    "    idx_chosen.append(idx)"
   ]
  },
  {
   "cell_type": "code",
   "execution_count": 335,
   "id": "d6da5826-1e59-494e-82d1-7cd4322c096c",
   "metadata": {},
   "outputs": [],
   "source": [
    "idx_chosen_noshuffle = []\n",
    "for i in range(Ntrial):\n",
    "    idx, _ = basepair_MC(Ubps, shuffle='No')\n",
    "    idx_chosen_noshuffle.append(idx)"
   ]
  },
  {
   "cell_type": "code",
   "execution_count": 336,
   "id": "1509cd26-9101-42cd-9789-a6803f2b9221",
   "metadata": {},
   "outputs": [],
   "source": [
    "idx_chosen_Fisher = []\n",
    "for i in range(Ntrial):\n",
    "    idx, _ = basepair_MC(Ubps, shuffle='Fisher-Yates')\n",
    "    idx_chosen_Fisher.append(idx)"
   ]
  },
  {
   "cell_type": "code",
   "execution_count": 337,
   "id": "29d965a2-969d-4331-b971-f82221a16b8e",
   "metadata": {},
   "outputs": [],
   "source": [
    "idx_chosen_alg2 = []\n",
    "for i in range(Ntrial):\n",
    "    idx, _ = basepair_MC2(Ubps)\n",
    "    idx_chosen_alg2.append(idx)"
   ]
  },
  {
   "cell_type": "code",
   "execution_count": 338,
   "id": "02adfb16-2efe-4e36-baa4-77daaa6da4f4",
   "metadata": {},
   "outputs": [
    {
     "name": "stdout",
     "output_type": "stream",
     "text": [
      "[-0.5  0.5  1.5  2.5  3.5  4.5  5.5  6.5  7.5  8.5] [0.00125 0.77545 0.      0.      0.      0.      0.      0.      0.2233 ]\n",
      "[-0.5  0.5  1.5] [0.00455 0.99545]\n",
      "[-0.5  0.5  1.5  2.5  3.5  4.5  5.5  6.5  7.5  8.5] [0.00153 0.77415 0.      0.      0.      0.      0.      0.      0.22432]\n",
      "[-0.5  0.5  1.5  2.5  3.5  4.5  5.5  6.5  7.5  8.5] [2.3780e-02 6.7880e-01 0.0000e+00 1.6000e-04 1.0000e-05 9.6000e-04\n",
      " 2.0000e-05 1.3300e-03 2.9494e-01]\n",
      "[0.024201664389782628, 0.6784119779975977, 1.338556230555217e-05, 0.00019264388958790805, 3.079985615111932e-05, 0.0008633700144335401, 2.607151536118227e-05, 0.0014234565072812544, 0.2948366302674992]\n"
     ]
    },
    {
     "data": {
      "text/plain": [
       "<matplotlib.legend.Legend at 0x124649910>"
      ]
     },
     "execution_count": 338,
     "metadata": {},
     "output_type": "execute_result"
    },
    {
     "data": {
      "image/png": "[encoded data removed]",
      "text/plain": [
       "<Figure size 640x480 with 1 Axes>"
      ]
     },
     "metadata": {},
     "output_type": "display_data"
    }
   ],
   "source": [
    "import matplotlib.pyplot as plt\n",
    "import numpy as np\n",
    "\n",
    "fig, ax = plt.subplots(1,1)\n",
    "\n",
    "hist, bins = np.histogram(idx_chosen, bins=np.arange(min(idx_chosen), max(idx_chosen) + 2) - 0.5, density=True)\n",
    "#ax.plot([0.5*(bins[i]+bins[i+1]) for i in range(len(bins)-1)], hist)\n",
    "print(bins, hist)\n",
    "ax.plot([0.5*(bins[i]+bins[i+1]) for i in range(len(bins)-1)], hist, color='green', marker='s', label='original')\n",
    "\n",
    "hist, bins = np.histogram(idx_chosen_noshuffle, bins=np.arange(min(idx_chosen_noshuffle), max(idx_chosen_noshuffle) + 2) - 0.5, density=True)\n",
    "print(bins, hist)\n",
    "ax.plot([0.5*(bins[i]+bins[i+1]) for i in range(len(bins)-1)], hist, color='blue', marker='o', label='No shuffle')\n",
    "\n",
    "hist, bins = np.histogram(idx_chosen_Fisher, bins=np.arange(min(idx_chosen_Fisher), max(idx_chosen_Fisher) + 2) - 0.5, density=True)\n",
    "print(bins, hist)\n",
    "ax.plot([0.5*(bins[i]+bins[i+1]) for i in range(len(bins)-1)], hist, color='purple', marker='+', label='Fisher-Yates')\n",
    "\n",
    "hist, bins = np.histogram(idx_chosen_alg2, bins=np.arange(min(idx_chosen_alg2), max(idx_chosen_alg2) + 2) - 0.5, density=True)\n",
    "print(bins, hist)\n",
    "ax.plot([0.5*(bins[i]+bins[i+1]) for i in range(len(bins)-1)], hist, color='orange', marker='x', label='alg2')\n",
    "\n",
    "print(probs_analytical)\n",
    "ax.plot(probs_analytical, color='red', label='analytical')\n",
    "\n",
    "ax.set_ylim(0,1)\n",
    "ax.legend()"
   ]
  },
  {
   "cell_type": "markdown",
   "id": "0b0a271b-969b-4e50-a16f-29eb454cd583",
   "metadata": {},
   "source": [
    "### Case of only two base pairs"
   ]
  },
  {
   "cell_type": "code",
   "execution_count": 285,
   "id": "74a1de88-12cc-4dd6-8eba-6c59c2365d5d",
   "metadata": {},
   "outputs": [],
   "source": [
    "Ubps = [-5.0, -7.0]"
   ]
  },
  {
   "cell_type": "code",
   "execution_count": 286,
   "id": "65501795-aff1-4779-bc1b-8f816d40ebde",
   "metadata": {},
   "outputs": [
    {
     "name": "stdout",
     "output_type": "stream",
     "text": [
      "-5.0 0.03366530571385086\n",
      "-7.0 0.966334694286149\n"
     ]
    }
   ],
   "source": [
    "Z = 0.0\n",
    "for Ubp in Ubps:\n",
    "    Z += math.exp(-Ubp / kT)\n",
    "\n",
    "probs_analytical = []\n",
    "for Ubp in Ubps:\n",
    "    p =  math.exp(-Ubp / kT) / Z\n",
    "    probs_analytical.append(p)\n",
    "    print(Ubp, p)"
   ]
  },
  {
   "cell_type": "code",
   "execution_count": 287,
   "id": "a342728d-f5bb-4f4c-828b-429e1b736d84",
   "metadata": {},
   "outputs": [],
   "source": [
    "Ntrial = 10000000\n",
    "\n",
    "idx_chosen = []\n",
    "for i in range(Ntrial):\n",
    "    idx, _ = basepair_MC(Ubps)\n",
    "    idx_chosen.append(idx)"
   ]
  },
  {
   "cell_type": "code",
   "execution_count": 288,
   "id": "eac3c5ca-fb1a-49b0-9d54-eff47bf35bbd",
   "metadata": {},
   "outputs": [],
   "source": [
    "idx_chosen_noshuffle = []\n",
    "for i in range(Ntrial):\n",
    "    idx, _ = basepair_MC(Ubps, shuffle='No')\n",
    "    idx_chosen_noshuffle.append(idx)"
   ]
  },
  {
   "cell_type": "code",
   "execution_count": 289,
   "id": "ded2697b-66c3-4d47-b6ef-ccab54f027cb",
   "metadata": {},
   "outputs": [],
   "source": [
    "idx_chosen_Fisher = []\n",
    "for i in range(Ntrial):\n",
    "    idx, _ = basepair_MC(Ubps, shuffle='Fisher-Yates')\n",
    "    idx_chosen_Fisher.append(idx)"
   ]
  },
  {
   "cell_type": "code",
   "execution_count": 290,
   "id": "9f602286-8143-4e35-be03-0eaf3345ac7a",
   "metadata": {},
   "outputs": [],
   "source": [
    "idx_chosen_alg2 = []\n",
    "for i in range(Ntrial):\n",
    "    idx, _ = basepair_MC2(Ubps)\n",
    "    idx_chosen_alg2.append(idx)"
   ]
  },
  {
   "cell_type": "code",
   "execution_count": 291,
   "id": "a903b85a-cc82-4608-ad28-a0234f7dd30e",
   "metadata": {},
   "outputs": [
    {
     "name": "stdout",
     "output_type": "stream",
     "text": [
      "[-0.5  0.5  1.5] [0.0174113 0.9825887]\n",
      "[-0.5  0.5  1.5] [0.0347271 0.9652729]\n",
      "[-0.5  0.5  1.5] [0.0174083 0.9825917]\n",
      "[-0.5  0.5  1.5] [0.0337649 0.9662351]\n",
      "[0.03366530571385086, 0.966334694286149]\n"
     ]
    },
    {
     "data": {
      "text/plain": [
       "<matplotlib.legend.Legend at 0x1242b19d0>"
      ]
     },
     "execution_count": 291,
     "metadata": {},
     "output_type": "execute_result"
    },
    {
     "data": {
      "image/png": "[encoded data removed]",
      "text/plain": [
       "<Figure size 640x480 with 1 Axes>"
      ]
     },
     "metadata": {},
     "output_type": "display_data"
    }
   ],
   "source": [
    "import matplotlib.pyplot as plt\n",
    "import numpy as np\n",
    "\n",
    "fig, ax = plt.subplots(1,1)\n",
    "\n",
    "hist, bins = np.histogram(idx_chosen, bins=np.arange(min(idx_chosen), max(idx_chosen) + 2) - 0.5, density=True)\n",
    "#ax.plot([0.5*(bins[i]+bins[i+1]) for i in range(len(bins)-1)], hist)\n",
    "print(bins, hist)\n",
    "ax.plot([0.5*(bins[i]+bins[i+1]) for i in range(len(bins)-1)], hist, color='green', marker='s', label='original')\n",
    "\n",
    "hist, bins = np.histogram(idx_chosen_noshuffle, bins=np.arange(min(idx_chosen_noshuffle), max(idx_chosen_noshuffle) + 2) - 0.5, density=True)\n",
    "print(bins, hist)\n",
    "ax.plot([0.5*(bins[i]+bins[i+1]) for i in range(len(bins)-1)], hist, color='blue', marker='o', label='No shuffle')\n",
    "\n",
    "hist, bins = np.histogram(idx_chosen_Fisher, bins=np.arange(min(idx_chosen_Fisher), max(idx_chosen_Fisher) + 2) - 0.5, density=True)\n",
    "print(bins, hist)\n",
    "ax.plot([0.5*(bins[i]+bins[i+1]) for i in range(len(bins)-1)], hist, color='purple', marker='+', label='Fisher-Yates')\n",
    "\n",
    "hist, bins = np.histogram(idx_chosen_alg2, bins=np.arange(min(idx_chosen_alg2), max(idx_chosen_alg2) + 2) - 0.5, density=True)\n",
    "print(bins, hist)\n",
    "ax.plot([0.5*(bins[i]+bins[i+1]) for i in range(len(bins)-1)], hist, color='orange', marker='x', label='alg2')\n",
    "\n",
    "print(probs_analytical)\n",
    "ax.plot(probs_analytical, color='red', label='analytical')\n",
    "\n",
    "ax.set_ylim(0,1)\n",
    "ax.legend()"
   ]
  },
  {
   "cell_type": "markdown",
   "id": "a821c9a1-f069-4dda-9e90-00bbcc7e8c93",
   "metadata": {},
   "source": [
    "### swap"
   ]
  },
  {
   "cell_type": "code",
   "execution_count": 292,
   "id": "e4b56cb2-4c7a-4292-be57-ff770507948e",
   "metadata": {},
   "outputs": [],
   "source": [
    "Ubps = [-7.0, -5.0]"
   ]
  },
  {
   "cell_type": "code",
   "execution_count": 293,
   "id": "bd5816e0-4a52-47a5-86ea-44f23eee5bee",
   "metadata": {},
   "outputs": [
    {
     "name": "stdout",
     "output_type": "stream",
     "text": [
      "-7.0 0.966334694286149\n",
      "-5.0 0.03366530571385086\n"
     ]
    }
   ],
   "source": [
    "Z = 0.0\n",
    "for Ubp in Ubps:\n",
    "    Z += math.exp(-Ubp / kT)\n",
    "\n",
    "probs_analytical = []\n",
    "for Ubp in Ubps:\n",
    "    p =  math.exp(-Ubp / kT) / Z\n",
    "    probs_analytical.append(p)\n",
    "    print(Ubp, p)"
   ]
  },
  {
   "cell_type": "code",
   "execution_count": 294,
   "id": "843421a8-c584-4a92-b6e5-28dad849a129",
   "metadata": {},
   "outputs": [],
   "source": [
    "Ntrial = 10000000\n",
    "\n",
    "idx_chosen = []\n",
    "for i in range(Ntrial):\n",
    "    idx, _ = basepair_MC(Ubps)\n",
    "    idx_chosen.append(idx)"
   ]
  },
  {
   "cell_type": "code",
   "execution_count": 295,
   "id": "65137e11-b61e-4ebc-a247-6558a3c624ad",
   "metadata": {},
   "outputs": [],
   "source": [
    "idx_chosen_noshuffle = []\n",
    "for i in range(Ntrial):\n",
    "    idx, _ = basepair_MC(Ubps, shuffle='No')\n",
    "    idx_chosen_noshuffle.append(idx)"
   ]
  },
  {
   "cell_type": "code",
   "execution_count": 296,
   "id": "ab735dcc-2871-4fa3-9256-30974bc5a7bf",
   "metadata": {},
   "outputs": [],
   "source": [
    "idx_chosen_Fisher = []\n",
    "for i in range(Ntrial):\n",
    "    idx, _ = basepair_MC(Ubps, shuffle='Fisher-Yates')\n",
    "    idx_chosen_Fisher.append(idx)"
   ]
  },
  {
   "cell_type": "code",
   "execution_count": 297,
   "id": "7e589193-036a-4a9d-9bb9-bb90de24dcb4",
   "metadata": {},
   "outputs": [],
   "source": [
    "idx_chosen_alg2 = []\n",
    "for i in range(Ntrial):\n",
    "    idx, _ = basepair_MC2(Ubps)\n",
    "    idx_chosen_alg2.append(idx)"
   ]
  },
  {
   "cell_type": "code",
   "execution_count": 298,
   "id": "6fd116fe-23c0-4789-bd82-0570356a689c",
   "metadata": {},
   "outputs": [
    {
     "name": "stdout",
     "output_type": "stream",
     "text": [
      "[-0.5  0.5  1.5] [0.9825714 0.0174286]\n",
      "[-0.5  0.5] [1.]\n",
      "[-0.5  0.5  1.5] [0.9826034 0.0173966]\n",
      "[-0.5  0.5  1.5] [0.9662243 0.0337757]\n",
      "[0.966334694286149, 0.03366530571385086]\n"
     ]
    },
    {
     "data": {
      "text/plain": [
       "<matplotlib.legend.Legend at 0x124840f10>"
      ]
     },
     "execution_count": 298,
     "metadata": {},
     "output_type": "execute_result"
    },
    {
     "data": {
      "image/png": "[encoded data removed]",
      "text/plain": [
       "<Figure size 640x480 with 1 Axes>"
      ]
     },
     "metadata": {},
     "output_type": "display_data"
    }
   ],
   "source": [
    "import matplotlib.pyplot as plt\n",
    "import numpy as np\n",
    "\n",
    "fig, ax = plt.subplots(1,1)\n",
    "\n",
    "hist, bins = np.histogram(idx_chosen, bins=np.arange(min(idx_chosen), max(idx_chosen) + 2) - 0.5, density=True)\n",
    "#ax.plot([0.5*(bins[i]+bins[i+1]) for i in range(len(bins)-1)], hist)\n",
    "print(bins, hist)\n",
    "ax.plot([0.5*(bins[i]+bins[i+1]) for i in range(len(bins)-1)], hist, color='green', marker='s', label='original')\n",
    "\n",
    "hist, bins = np.histogram(idx_chosen_noshuffle, bins=np.arange(min(idx_chosen_noshuffle), max(idx_chosen_noshuffle) + 2) - 0.5, density=True)\n",
    "print(bins, hist)\n",
    "ax.plot([0.5*(bins[i]+bins[i+1]) for i in range(len(bins)-1)], hist, color='blue', marker='o', label='No shuffle')\n",
    "\n",
    "hist, bins = np.histogram(idx_chosen_Fisher, bins=np.arange(min(idx_chosen_Fisher), max(idx_chosen_Fisher) + 2) - 0.5, density=True)\n",
    "print(bins, hist)\n",
    "ax.plot([0.5*(bins[i]+bins[i+1]) for i in range(len(bins)-1)], hist, color='purple', marker='+', label='Fisher-Yates')\n",
    "\n",
    "hist, bins = np.histogram(idx_chosen_alg2, bins=np.arange(min(idx_chosen_alg2), max(idx_chosen_alg2) + 2) - 0.5, density=True)\n",
    "print(bins, hist)\n",
    "ax.plot([0.5*(bins[i]+bins[i+1]) for i in range(len(bins)-1)], hist, color='orange', marker='x', label='alg2')\n",
    "\n",
    "print(probs_analytical)\n",
    "ax.plot(probs_analytical, color='red', label='analytical')\n",
    "\n",
    "ax.set_ylim(0,1)\n",
    "ax.legend()"
   ]
  },
  {
   "cell_type": "code",
   "execution_count": null,
   "id": "a3ae1d2c-2157-413b-879a-2556f6ab8ee0",
   "metadata": {},
   "outputs": [],
   "source": [
    "\n"
   ]
  },
  {
   "cell_type": "code",
   "execution_count": null,
   "id": "7c7f413a-84fc-4cba-b5c4-57f7ad909f4e",
   "metadata": {},
   "outputs": [],
   "source": []
  },
  {
   "cell_type": "code",
   "execution_count": null,
   "id": "b66331cb-85bf-4165-8383-842cf4fbca98",
   "metadata": {},
   "outputs": [],
   "source": []
  }
 ],
 "metadata": {
  "kernelspec": {
   "display_name": "NHp311",
   "language": "python",
   "name": "nhp311"
  },
  "language_info": {
   "codemirror_mode": {
    "name": "ipython",
    "version": 3
   },
   "file_extension": ".py",
   "mimetype": "text/x-python",
   "name": "python",
   "nbconvert_exporter": "python",
   "pygments_lexer": "ipython3",
   "version": "3.11.9"
  }
 },
 "nbformat": 4,
 "nbformat_minor": 5
}
